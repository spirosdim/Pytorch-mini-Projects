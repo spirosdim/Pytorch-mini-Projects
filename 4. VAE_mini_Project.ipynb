{
 "cells": [
  {
   "cell_type": "markdown",
   "metadata": {
    "colab_type": "text",
    "id": "MvIYkZj0cnYi"
   },
   "source": [
    "# Variational Autoencoder mini-Project Pytorch\n",
    "\n",
    "**keywords:** Pytorch, rdkit, SMILES, Variational Autoencoder, 1D CNN, GRU\n",
    "\n",
    "The dataset consist of SMILES (Simplified molecular-input line-entry system). The goal is to reconstruct the SMILES and then try to generate new SMILES with the  properties  \n",
    "\n",
    "This notebook is a toy example based on the paper  [Automatic Chemical Design Using a Data-Driven Continuous Representation of Molecules](https://pubs.acs.org/doi/10.1021/acscentsci.7b00572) and the impementation of [molecular-vae / github repo by Akshay Subramanian](https://github.com/aksub99/molecular-vae).\n",
    "\n",
    "**Note:** The purpose of this notebook is to apply a Variational Autoencoder with pytorch, I am not a chemisist thus I cannot interpret the outcome of the network properly. \n",
    "\n"
   ]
  },
  {
   "cell_type": "code",
   "execution_count": 1,
   "metadata": {
    "colab": {
     "base_uri": "https://localhost:8080/",
     "height": 167
    },
    "colab_type": "code",
    "id": "UWSLiFpeceC5",
    "outputId": "cd18c034-98cc-491d-c483-4d472a934bc5"
   },
   "outputs": [
    {
     "name": "stderr",
     "output_type": "stream",
     "text": [
      "add /root/miniconda/lib/python3.6/site-packages to PYTHONPATH\n",
      "python version: 3.6.9\n",
      "fetching installer from https://repo.continuum.io/miniconda/Miniconda3-latest-Linux-x86_64.sh\n",
      "done\n",
      "installing miniconda to /root/miniconda\n",
      "done\n",
      "installing rdkit\n",
      "done\n",
      "rdkit-2020.03.3 installation finished!\n"
     ]
    }
   ],
   "source": [
    "# Reference: https://gist.github.com/philopon/a75a33919d9ae41dbed5bc6a39f5ede2\n",
    "import sys\n",
    "import os\n",
    "import requests\n",
    "import subprocess\n",
    "import shutil\n",
    "from logging import getLogger, StreamHandler, INFO\n",
    "\n",
    "logger = getLogger(__name__)\n",
    "logger.addHandler(StreamHandler())\n",
    "logger.setLevel(INFO)\n",
    "\n",
    "def install(\n",
    "        chunk_size=4096,\n",
    "        file_name=\"Miniconda3-latest-Linux-x86_64.sh\",\n",
    "        url_base=\"https://repo.continuum.io/miniconda/\",\n",
    "        conda_path=os.path.expanduser(os.path.join(\"~\", \"miniconda\")),\n",
    "        rdkit_version=None,\n",
    "        add_python_path=True,\n",
    "        force=False):\n",
    "    \"\"\"install rdkit from miniconda\n",
    "    ```\n",
    "    import rdkit_installer\n",
    "    rdkit_installer.install()\n",
    "    ```\n",
    "    \"\"\"\n",
    "\n",
    "    python_path = os.path.join(\n",
    "        conda_path,\n",
    "        \"lib\",\n",
    "        \"python{0}.{1}\".format(*sys.version_info),\n",
    "        \"site-packages\",\n",
    "    )\n",
    "\n",
    "    if add_python_path and python_path not in sys.path:\n",
    "        logger.info(\"add {} to PYTHONPATH\".format(python_path))\n",
    "        sys.path.append(python_path)\n",
    "\n",
    "    if os.path.isdir(os.path.join(python_path, \"rdkit\")):\n",
    "        logger.info(\"rdkit is already installed\")\n",
    "        if not force:\n",
    "            return\n",
    "\n",
    "        logger.info(\"force re-install\")\n",
    "\n",
    "    url = url_base + file_name\n",
    "    python_version = \"{0}.{1}.{2}\".format(*sys.version_info)\n",
    "\n",
    "    logger.info(\"python version: {}\".format(python_version))\n",
    "\n",
    "    if os.path.isdir(conda_path):\n",
    "        logger.warning(\"remove current miniconda\")\n",
    "        shutil.rmtree(conda_path)\n",
    "    elif os.path.isfile(conda_path):\n",
    "        logger.warning(\"remove {}\".format(conda_path))\n",
    "        os.remove(conda_path)\n",
    "\n",
    "    logger.info('fetching installer from {}'.format(url))\n",
    "    res = requests.get(url, stream=True)\n",
    "    res.raise_for_status()\n",
    "    with open(file_name, 'wb') as f:\n",
    "        for chunk in res.iter_content(chunk_size):\n",
    "            f.write(chunk)\n",
    "    logger.info('done')\n",
    "\n",
    "    logger.info('installing miniconda to {}'.format(conda_path))\n",
    "    subprocess.check_call([\"bash\", file_name, \"-b\", \"-p\", conda_path])\n",
    "    logger.info('done')\n",
    "\n",
    "    logger.info(\"installing rdkit\")\n",
    "    subprocess.check_call([\n",
    "        os.path.join(conda_path, \"bin\", \"conda\"),\n",
    "        \"install\",\n",
    "        \"--yes\",\n",
    "        \"-c\", \"rdkit\",\n",
    "        \"python=={}\".format(python_version),\n",
    "        \"rdkit\" if rdkit_version is None else \"rdkit=={}\".format(rdkit_version)])\n",
    "    logger.info(\"done\")\n",
    "\n",
    "    import rdkit\n",
    "    logger.info(\"rdkit-{} installation finished!\".format(rdkit.__version__))\n",
    "\n",
    "if __name__ == \"__main__\":\n",
    "    install()"
   ]
  },
  {
   "cell_type": "code",
   "execution_count": 2,
   "metadata": {
    "colab": {
     "base_uri": "https://localhost:8080/",
     "height": 70
    },
    "colab_type": "code",
    "id": "HSI6JZkdc0Nh",
    "outputId": "c47e2d16-01da-4fe1-8633-9154ddf4d4d1"
   },
   "outputs": [
    {
     "name": "stderr",
     "output_type": "stream",
     "text": [
      "/usr/local/lib/python3.6/dist-packages/statsmodels/tools/_testing.py:19: FutureWarning: pandas.util.testing is deprecated. Use the functions in the public API at pandas.testing instead.\n",
      "  import pandas.util.testing as tm\n"
     ]
    }
   ],
   "source": [
    "# Imports\n",
    "import sys\n",
    "import os\n",
    "from tqdm.notebook import tqdm\n",
    "import pandas as pd\n",
    "import numpy as np\n",
    "from rdkit import Chem\n",
    "from rdkit.Chem import Draw, Descriptors\n",
    "from rdkit.Chem import AllChem\n",
    "from rdkit.Chem.Draw import IPythonConsole\n",
    "from matplotlib import pyplot as plt\n",
    "import seaborn as sns\n",
    "sns.set()\n",
    "%matplotlib inline"
   ]
  },
  {
   "cell_type": "markdown",
   "metadata": {
    "colab_type": "text",
    "id": "rkT4HwTJ8sDM"
   },
   "source": [
    "In this notebook, the file with SMILES containing 8 atoms from the GDB-11 dataset will be used. It contains all molecules possible to generate with a subset of atoms and bond types. The dataset can be downloaded here: http://gdb.unibe.ch/downloads/.\n",
    "\n",
    "The preprocessing to one hot encoding is from [cheminformania.com](http://www.cheminformania.com/master-your-molecule-generator-seq2seq-rnn-models-with-smiles-in-keras/) [1] by  Esben Jannik Bjerrum.\n",
    "\n",
    "\n",
    "\n"
   ]
  },
  {
   "cell_type": "code",
   "execution_count": 3,
   "metadata": {
    "colab": {
     "base_uri": "https://localhost:8080/",
     "height": 385
    },
    "colab_type": "code",
    "id": "JI5DJOPLc0LM",
    "outputId": "7c1f630a-02e4-4522-cead-c52c54f213bf"
   },
   "outputs": [
    {
     "name": "stdout",
     "output_type": "stream",
     "text": [
      "--2020-08-02 12:50:44--  http://gdbtools.unibe.ch:8080/cdn/gdb11.tgz\n",
      "Resolving gdbtools.unibe.ch (gdbtools.unibe.ch)... 130.92.106.211\n",
      "Connecting to gdbtools.unibe.ch (gdbtools.unibe.ch)|130.92.106.211|:8080... connected.\n",
      "HTTP request sent, awaiting response... 200 OK\n",
      "Length: 122040261 (116M)\n",
      "Saving to: ‘gdb11.tgz’\n",
      "\n",
      "gdb11.tgz           100%[===================>] 116.39M  55.7MB/s    in 2.1s    \n",
      "\n",
      "2020-08-02 12:50:47 (55.7 MB/s) - ‘gdb11.tgz’ saved [122040261/122040261]\n",
      "\n",
      "gdb11_size01.smi\n",
      "gdb11_size02.smi\n",
      "gdb11_size03.smi\n",
      "gdb11_size04.smi\n",
      "gdb11_size05.smi\n",
      "gdb11_size06.smi\n",
      "gdb11_size07.smi\n",
      "gdb11_size08.smi\n",
      "gdb11_size09.smi\n",
      "gdb11_size10.smi\n",
      "gdb11_size11.smi\n"
     ]
    }
   ],
   "source": [
    "# download the data\n",
    "!wget http://gdbtools.unibe.ch:8080/cdn/gdb11.tgz\n",
    "\n",
    "# unzip the data\n",
    "!tar -xvzf gdb11.tgz"
   ]
  },
  {
   "cell_type": "code",
   "execution_count": 4,
   "metadata": {
    "colab": {},
    "colab_type": "code",
    "id": "29gySegFuZAN"
   },
   "outputs": [],
   "source": [
    "import random\n",
    "random.seed(1)"
   ]
  },
  {
   "cell_type": "code",
   "execution_count": 5,
   "metadata": {
    "colab": {
     "base_uri": "https://localhost:8080/",
     "height": 50
    },
    "colab_type": "code",
    "id": "avDY4Rsec0Gb",
    "outputId": "ce9ded94-fa19-40fd-e739-46db107977e7"
   },
   "outputs": [
    {
     "name": "stdout",
     "output_type": "stream",
     "text": [
      "Training examples: 50029\n",
      "Validation examples: 16677\n"
     ]
    }
   ],
   "source": [
    "smifile = \"gdb11_size08.smi\"\n",
    "\n",
    "data = pd.read_csv(smifile, delimiter = \"\\t\", names = [\"smiles\",\"No\",\"Int\"])\n",
    "from sklearn.model_selection import train_test_split\n",
    "smiles_train, smiles_valid = train_test_split(data[\"smiles\"], random_state=42)\n",
    "print(\"Training examples:\", smiles_train.shape[0])\n",
    "print(\"Validation examples:\", smiles_valid.shape[0])"
   ]
  },
  {
   "cell_type": "markdown",
   "metadata": {
    "colab_type": "text",
    "id": "6jKpOKx4am8J"
   },
   "source": [
    "The SMILE examples look like this:"
   ]
  },
  {
   "cell_type": "code",
   "execution_count": 6,
   "metadata": {
    "colab": {
     "base_uri": "https://localhost:8080/",
     "height": 167
    },
    "colab_type": "code",
    "id": "9bdjnfKg6tEO",
    "outputId": "79da9c00-1702-44f4-8470-7978735cf135"
   },
   "outputs": [
    {
     "data": {
      "text/plain": [
       "43342        N#CC#CC1COC1\n",
       "4937     CC1(CC1)C(F)(F)F\n",
       "19273      CCC(=C)C(=C)CF\n",
       "47569        FC(F)c1cnco1\n",
       "51804        C=CC1CN=CNO1\n",
       "22303        ONC(=O)OC=NO\n",
       "11915      CC(CC=C)=C(F)F\n",
       "48363      C1CCN2CC(C1)C2\n",
       "Name: smiles, dtype: object"
      ]
     },
     "execution_count": 6,
     "metadata": {
      "tags": []
     },
     "output_type": "execute_result"
    }
   ],
   "source": [
    "smiles_train[:8]"
   ]
  },
  {
   "cell_type": "code",
   "execution_count": 7,
   "metadata": {
    "colab": {
     "base_uri": "https://localhost:8080/",
     "height": 301
    },
    "colab_type": "code",
    "id": "XTH5pB3oWD-c",
    "outputId": "2872b8d9-af74-4d28-b753-81b407fe1121"
   },
   "outputs": [
    {
     "data": {
      "image/png": "[encoded data removed]",
      "text/plain": [
       "<Figure size 432x288 with 1 Axes>"
      ]
     },
     "metadata": {
      "needs_background": "light",
      "tags": []
     },
     "output_type": "display_data"
    }
   ],
   "source": [
    "lengths_train = [len(sm) for sm in smiles_train]\n",
    "lengths_valid = [len(sm) for sm in smiles_valid]\n",
    "\n",
    "plt.hist(lengths_train, bins=15)\n",
    "plt.hist(lengths_valid, bins=15)\n",
    "plt.title('length of SMILES strings')\n",
    "plt.xlabel('Number of characters')\n",
    "plt.legend(['Train set','Valid set'])\n",
    "plt.show();"
   ]
  },
  {
   "cell_type": "markdown",
   "metadata": {
    "colab_type": "text",
    "id": "h6nkBh2sXSK6"
   },
   "source": [
    "The train and validation sets have SMILES with the same range of their length."
   ]
  },
  {
   "cell_type": "markdown",
   "metadata": {
    "colab_type": "text",
    "id": "E_6XXx8VZedk"
   },
   "source": [
    "Let's visualize some of the molecules of training set."
   ]
  },
  {
   "cell_type": "code",
   "execution_count": 8,
   "metadata": {
    "colab": {
     "base_uri": "https://localhost:8080/",
     "height": 417
    },
    "colab_type": "code",
    "id": "pI4POpVjYH47",
    "outputId": "095bf765-a851-40c3-9571-60789c8fb83a"
   },
   "outputs": [
    {
     "data": {
      "image/png": "[encoded data removed]",
      "text/plain": [
       "<PIL.PngImagePlugin.PngImageFile image mode=RGB size=1000x400 at 0x7F304779A748>"
      ]
     },
     "execution_count": 8,
     "metadata": {
      "tags": []
     },
     "output_type": "execute_result"
    }
   ],
   "source": [
    "smiles_list = smiles_train[100:110]\n",
    "mol_list = []\n",
    "for smile in smiles_list:\n",
    "  mol = Chem.MolFromSmiles(smile)\n",
    "  mol_list.append(mol)\n",
    "\n",
    "img = Chem.Draw.MolsToGridImage(mol_list, molsPerRow=5)\n",
    "img"
   ]
  },
  {
   "cell_type": "markdown",
   "metadata": {
    "colab_type": "text",
    "id": "Y77mNECmDZMI"
   },
   "source": [
    "Every SMILE string will end with the token E, so we will pad the SMILES to have the same length. This will make the network computationaly more efficient. "
   ]
  },
  {
   "cell_type": "code",
   "execution_count": 9,
   "metadata": {
    "colab": {
     "base_uri": "https://localhost:8080/",
     "height": 67
    },
    "colab_type": "code",
    "id": "pNJbH2gPc0BS",
    "outputId": "93afe9f8-4112-4f63-a910-d20222015021"
   },
   "outputs": [
    {
     "name": "stdout",
     "output_type": "stream",
     "text": [
      "{'N', 'C', 'E', '+', ']', '=', '#', '1', 'o', '3', '[', 'H', ')', 'F', '4', '-', '2', '(', 'c', 'n', 'O'}\n",
      "Number of different characters: 21\n",
      "Max SMILE length: 27\n"
     ]
    }
   ],
   "source": [
    "charset = set(\"\".join(list(data.smiles))+\"E\")  \n",
    "char_to_int = dict((c,i) for i,c in enumerate(charset))\n",
    "int_to_char = dict((i,c) for i,c in enumerate(charset))\n",
    "embed = max([len(smile) for smile in data.smiles]) + 4\n",
    "print(str(charset))\n",
    "print(\"Number of different characters:\", len(charset))\n",
    "print(\"Max SMILE length:\", embed)"
   ]
  },
  {
   "cell_type": "code",
   "execution_count": 10,
   "metadata": {
    "colab": {},
    "colab_type": "code",
    "id": "gibCuCfrbB1k"
   },
   "outputs": [],
   "source": [
    "def vectorize(smiles):\n",
    "        one_hot =  np.zeros((smiles.shape[0], embed , len(charset)),dtype=np.int8)\n",
    "        for i,smile in enumerate(smiles):\n",
    "            #encode the chars\n",
    "            for j,c in enumerate(smile):\n",
    "                one_hot[i,j,char_to_int[c]] = 1\n",
    "            #Encode endchar\n",
    "            one_hot[i,len(smile):,char_to_int[\"E\"]] = 1\n",
    "        return one_hot[:,0:-1,:]\n",
    "        \n",
    "X_train = vectorize(smiles_train.values)\n",
    "X_valid = vectorize(smiles_valid.values)"
   ]
  },
  {
   "cell_type": "code",
   "execution_count": 11,
   "metadata": {
    "colab": {
     "base_uri": "https://localhost:8080/",
     "height": 50
    },
    "colab_type": "code",
    "id": "FOCIwrD-cz6P",
    "outputId": "41a4e0f5-4bf8-47eb-b6d4-cffef78d0bf6"
   },
   "outputs": [
    {
     "name": "stdout",
     "output_type": "stream",
     "text": [
      "(50029, 26, 21)\n",
      "(16677, 26, 21)\n"
     ]
    }
   ],
   "source": [
    "print(X_train.shape)\n",
    "print(X_valid.shape)"
   ]
  },
  {
   "cell_type": "code",
   "execution_count": 12,
   "metadata": {
    "colab": {
     "base_uri": "https://localhost:8080/",
     "height": 297
    },
    "colab_type": "code",
    "id": "YFC6jLl11Cj7",
    "outputId": "a760d3f8-d7a3-4d20-92c7-85c03a892257"
   },
   "outputs": [
    {
     "name": "stdout",
     "output_type": "stream",
     "text": [
      "ON(C=C)C(=O)C=O\n"
     ]
    },
    {
     "data": {
      "image/png": "[encoded data removed]",
      "text/plain": [
       "<Figure size 356.571x288 with 1 Axes>"
      ]
     },
     "metadata": {
      "needs_background": "light",
      "tags": []
     },
     "output_type": "display_data"
    }
   ],
   "source": [
    "i = 100\n",
    "print(smiles_train.iloc[i])\n",
    "plt.matshow(X_train[i].T);\n",
    "plt.yticks(range(len(charset)),list(charset));"
   ]
  },
  {
   "cell_type": "code",
   "execution_count": 13,
   "metadata": {
    "colab": {
     "base_uri": "https://localhost:8080/",
     "height": 167
    },
    "colab_type": "code",
    "id": "Alux3kj3cJB6",
    "outputId": "b35043f5-b196-4ff3-df53-e6b47ef09da4"
   },
   "outputs": [
    {
     "data": {
      "image/png": "[encoded data removed]",
      "text/plain": [
       "<rdkit.Chem.rdchem.Mol at 0x7f302a29d670>"
      ]
     },
     "execution_count": 13,
     "metadata": {
      "tags": []
     },
     "output_type": "execute_result"
    }
   ],
   "source": [
    "Chem.MolFromSmiles(smiles_train.iloc[i])"
   ]
  },
  {
   "cell_type": "markdown",
   "metadata": {
    "colab_type": "text",
    "id": "-YlhtvjaENj4"
   },
   "source": [
    "Make the torch Data Loaders."
   ]
  },
  {
   "cell_type": "code",
   "execution_count": 14,
   "metadata": {
    "colab": {},
    "colab_type": "code",
    "id": "b6ErjdXsgb-9"
   },
   "outputs": [],
   "source": [
    "import torch\n",
    "\n",
    "data_train = torch.utils.data.TensorDataset(torch.from_numpy(X_train).float())\n",
    "train_loader = torch.utils.data.DataLoader(data_train, batch_size=250, \n",
    "                                           shuffle=True, num_workers=3, \n",
    "                                           pin_memory=True)\n",
    "data_valid = torch.utils.data.TensorDataset(torch.from_numpy(X_valid).float())\n",
    "valid_loader = torch.utils.data.DataLoader(data_valid, batch_size=250, \n",
    "                                          shuffle=False, num_workers=3, \n",
    "                                          pin_memory=True)"
   ]
  },
  {
   "cell_type": "markdown",
   "metadata": {
    "colab_type": "text",
    "id": "CgPuOnWe-xHK"
   },
   "source": [
    "# Model"
   ]
  },
  {
   "cell_type": "code",
   "execution_count": 15,
   "metadata": {
    "colab": {},
    "colab_type": "code",
    "id": "keoYzsvN-y-p"
   },
   "outputs": [],
   "source": [
    "import torch\n",
    "import torch.nn as nn\n",
    "import torch.nn.functional as F\n",
    "import torch.utils.data\n",
    "import torch.optim as optim\n",
    "from torch.optim.lr_scheduler import ReduceLROnPlateau"
   ]
  },
  {
   "cell_type": "code",
   "execution_count": 35,
   "metadata": {
    "colab": {},
    "colab_type": "code",
    "id": "5l6eM7Q7gcL-"
   },
   "outputs": [],
   "source": [
    "class MolecularVAE(nn.Module):\n",
    "    def __init__(self):\n",
    "        super(MolecularVAE, self).__init__()\n",
    "\n",
    "        self.conv_1 = nn.Conv1d(26, 13, kernel_size=9)\n",
    "        self.conv_2 = nn.Conv1d(13, 9, kernel_size=9)\n",
    "        self.linear_0 = nn.Linear(45, 435)  \n",
    "        self.linear_1 = nn.Linear(435, 292)\n",
    "        self.linear_2 = nn.Linear(435, 292)\n",
    "\n",
    "        self.linear_3 = nn.Linear(292, 292)\n",
    "        self.gru = nn.GRU(292, 501, 3, batch_first=True)\n",
    "        self.linear_4 = nn.Linear(501, 21)  \n",
    "        \n",
    "        self.relu = nn.ReLU()\n",
    "        self.softmax = nn.Softmax()\n",
    "\n",
    "    def encode(self, x):\n",
    "        x = self.relu(self.conv_1(x))\n",
    "        x = self.relu(self.conv_2(x))\n",
    "        x = x.view(x.size(0), -1)\n",
    "        x = F.selu(self.linear_0(x))\n",
    "        return self.linear_1(x), self.linear_2(x)\n",
    "\n",
    "    def reparameterize(self, z_mean, z_logvar): \n",
    "        epsilon = 1e-2 * torch.randn_like(z_logvar)     # Sample epsilon\n",
    "        return z_mean + epsilon * torch.exp(z_logvar/2.)  \n",
    "\n",
    "\n",
    "    def decode(self, z):\n",
    "        z = F.selu(self.linear_3(z))\n",
    "        z = z.view(z.size(0), 1, z.size(-1)).repeat(1, 26, 1)\n",
    "        output, hn = self.gru(z)\n",
    "        out_reshape = output.contiguous().view(-1, output.size(-1))\n",
    "        y0 = F.softmax(self.linear_4(out_reshape), dim=1)\n",
    "        y = y0.contiguous().view(output.size(0), -1, y0.size(-1))\n",
    "        return y\n",
    "\n",
    "    def forward(self, x):\n",
    "        z_mean, z_logvar = self.encode(x)\n",
    "        z = self.reparameterize(z_mean, z_logvar)\n",
    "        return self.decode(z), z_mean, z_logvar"
   ]
  },
  {
   "cell_type": "code",
   "execution_count": 17,
   "metadata": {
    "colab": {},
    "colab_type": "code",
    "id": "0lIUdfkqgcOk"
   },
   "outputs": [],
   "source": [
    "def loss_function(x_hat, x, z_mean, z_logvar):\n",
    "    BCE = F.binary_cross_entropy(x_hat, x, reduction='sum')\n",
    "    KLD = -0.5 * torch.sum(1 + z_logvar - z_mean.pow(2) - z_logvar.exp())\n",
    "    return BCE + KLD"
   ]
  },
  {
   "cell_type": "code",
   "execution_count": 18,
   "metadata": {
    "colab": {
     "base_uri": "https://localhost:8080/",
     "height": 217
    },
    "colab_type": "code",
    "id": "Gk-i5ZEKFwca",
    "outputId": "98209ca8-0eb4-4d23-c667-5b7666ef5c15"
   },
   "outputs": [
    {
     "data": {
      "text/plain": [
       "MolecularVAE(\n",
       "  (conv_1): Conv1d(26, 13, kernel_size=(9,), stride=(1,))\n",
       "  (conv_2): Conv1d(13, 9, kernel_size=(9,), stride=(1,))\n",
       "  (linear_0): Linear(in_features=45, out_features=435, bias=True)\n",
       "  (linear_1): Linear(in_features=435, out_features=292, bias=True)\n",
       "  (linear_2): Linear(in_features=435, out_features=292, bias=True)\n",
       "  (linear_3): Linear(in_features=292, out_features=292, bias=True)\n",
       "  (gru): GRU(292, 501, num_layers=3, batch_first=True)\n",
       "  (linear_4): Linear(in_features=501, out_features=21, bias=True)\n",
       "  (relu): ReLU()\n",
       "  (softmax): Softmax(dim=None)\n",
       ")"
      ]
     },
     "execution_count": 18,
     "metadata": {
      "tags": []
     },
     "output_type": "execute_result"
    }
   ],
   "source": [
    "torch.manual_seed(1)\n",
    "torch.cuda.manual_seed(1)\n",
    "device =  torch.device(\"cuda:0\" if torch.cuda.is_available() else \"cpu\")\n",
    "\n",
    "model = MolecularVAE().to(device)\n",
    "\n",
    "model"
   ]
  },
  {
   "cell_type": "code",
   "execution_count": 36,
   "metadata": {
    "colab": {
     "base_uri": "https://localhost:8080/",
     "height": 33
    },
    "colab_type": "code",
    "id": "271T1f1c9Tf-",
    "outputId": "a5bbacad-881f-4eab-e2a8-bcb96aff7289"
   },
   "outputs": [
    {
     "name": "stdout",
     "output_type": "stream",
     "text": [
      "The model has 4,587,758 trainable parameters.\n"
     ]
    }
   ],
   "source": [
    "def count_parameters(model):\n",
    "    return sum(p.numel() for p in model.parameters() if p.requires_grad)\n",
    "\n",
    "print(f'The model has {count_parameters(model):,} trainable parameters.')"
   ]
  },
  {
   "cell_type": "markdown",
   "metadata": {
    "colab_type": "text",
    "id": "O2_f_fJ2ACuF"
   },
   "source": [
    "# Train"
   ]
  },
  {
   "cell_type": "code",
   "execution_count": 24,
   "metadata": {
    "colab": {},
    "colab_type": "code",
    "id": "SQ7hIBujgb8N"
   },
   "outputs": [],
   "source": [
    "epochs = 25 \n",
    "optimizer = optim.Adam(model.parameters(), lr=1e-3)"
   ]
  },
  {
   "cell_type": "code",
   "execution_count": 25,
   "metadata": {
    "colab": {
     "base_uri": "https://localhost:8080/",
     "height": 1000,
     "referenced_widgets": [
      "30eaac9517a64d1993bd48d3fd418884",
      "a8e2cdf0daf74cbfb723416789bf76f4",
      "31cdb4faefc74b65b8c2eb1e1a2c0feb",
      "f0086ae346a842349d999c3693bfb948",
      "b755890dd2af4f47a0a5f4a248ad2b42",
      "d03ef04dbff84552a5801e3a9abb2386",
      "adea4a33144c45c6a115cf2db2d79e25",
      "d540fb8bc7a649c1b537034efb18a5b8"
     ]
    },
    "colab_type": "code",
    "id": "nx6AHz_6IRYw",
    "outputId": "94cc4d29-e5cc-4478-da18-bbfb52c9caa4"
   },
   "outputs": [
    {
     "data": {
      "application/vnd.jupyter.widget-view+json": {
       "model_id": "30eaac9517a64d1993bd48d3fd418884",
       "version_major": 2,
       "version_minor": 0
      },
      "text/plain": [
       "HBox(children=(FloatProgress(value=0.0, max=26.0), HTML(value='')))"
      ]
     },
     "metadata": {
      "tags": []
     },
     "output_type": "display_data"
    },
    {
     "name": "stdout",
     "output_type": "stream",
     "text": [
      "====> Valid set loss: 105.74420\n",
      "Input-Target:\n",
      "COC=CCCCOEEEEEEEEEEEEEEEEE\n",
      "Output:\n",
      "OOOOOOOOOOOOOOOOOOOOOOOOOO\n",
      "====> Epoch: 1 Average loss: 43.17781\n",
      "====> Valid set loss: 37.38765\n",
      "Input-Target:\n",
      "COC=CCCCOEEEEEEEEEEEEEEEEE\n",
      "Output:\n",
      "CCCCCCCCCEEEEEEEEEEEEEEEEE\n",
      "====> Epoch: 2 Average loss: 36.19602\n",
      "====> Valid set loss: 52.15723\n",
      "Input-Target:\n",
      "COC=CCCCOEEEEEEEEEEEEEEEEE\n",
      "Output:\n",
      "CCCCCCOEEEEEEEEEEEEEEEEEEE\n",
      "====> Epoch: 3 Average loss: 33.49772\n",
      "====> Valid set loss: 30.25048\n",
      "Input-Target:\n",
      "COC=CCCCOEEEEEEEEEEEEEEEEE\n",
      "Output:\n",
      "CCCCCCCCOEEEEEEEEEEEEEEEEE\n",
      "====> Epoch: 4 Average loss: 28.72258\n",
      "====> Valid set loss: 27.07430\n",
      "Input-Target:\n",
      "COC=CCCCOEEEEEEEEEEEEEEEEE\n",
      "Output:\n",
      "CCCCCCCCCEEEEEEEEEEEEEEEEE\n",
      "====> Epoch: 5 Average loss: 24.78252\n",
      "====> Valid set loss: 22.34488\n",
      "Input-Target:\n",
      "COC=CCCCOEEEEEEEEEEEEEEEEE\n",
      "Output:\n",
      "CCCCCCCCOEEEEEEEEEEEEEEEEE\n",
      "====> Epoch: 6 Average loss: 21.35486\n",
      "====> Valid set loss: 21.51260\n",
      "Input-Target:\n",
      "COC=CCCCOEEEEEEEEEEEEEEEEE\n",
      "Output:\n",
      "CCC=CCCCCEEEEEEEEEEEEEEEEE\n",
      "====> Epoch: 7 Average loss: 18.46537\n",
      "====> Valid set loss: 18.28822\n",
      "Input-Target:\n",
      "COC=CCCCOEEEEEEEEEEEEEEEEE\n",
      "Output:\n",
      "CCC=CCCCFEEEEEEEEEEEEEEEEE\n",
      "====> Epoch: 8 Average loss: 16.46140\n",
      "====> Valid set loss: 21.39727\n",
      "Input-Target:\n",
      "COC=CCCCOEEEEEEEEEEEEEEEEE\n",
      "Output:\n",
      "CCC=C=CNOEEEEEEEEEEEEEEEEE\n",
      "====> Epoch: 9 Average loss: 15.22854\n",
      "====> Valid set loss: 15.12611\n",
      "Input-Target:\n",
      "COC=CCCCOEEEEEEEEEEEEEEEEE\n",
      "Output:\n",
      "CCC=CCC=OEEEEEEEEEEEEEEEEE\n",
      "====> Epoch: 10 Average loss: 13.98378\n",
      "====> Valid set loss: 13.16112\n",
      "Input-Target:\n",
      "COC=CCCCOEEEEEEEEEEEEEEEEE\n",
      "Output:\n",
      "CCC=CCCCCEEEEEEEEEEEEEEEEE\n",
      "====> Epoch: 11 Average loss: 12.14254\n",
      "====> Valid set loss: 13.90979\n",
      "Input-Target:\n",
      "COC=CCCCOEEEEEEEEEEEEEEEEE\n",
      "Output:\n",
      "CCC=CCCCFEEEEEEEEEEEEEEEEE\n",
      "====> Epoch: 12 Average loss: 11.36005\n",
      "====> Valid set loss: 11.25973\n",
      "Input-Target:\n",
      "COC=CCCCOEEEEEEEEEEEEEEEEE\n",
      "Output:\n",
      "CCCOCCCCCEEEEEEEEEEEEEEEEE\n",
      "====> Epoch: 13 Average loss: 10.90561\n",
      "====> Valid set loss: 10.07262\n",
      "Input-Target:\n",
      "COC=CCCCOEEEEEEEEEEEEEEEEE\n",
      "Output:\n",
      "CCC=CCCCCEEEEEEEEEEEEEEEEE\n",
      "====> Epoch: 14 Average loss: 9.39435\n",
      "====> Valid set loss: 9.58105\n",
      "Input-Target:\n",
      "COC=CCCCOEEEEEEEEEEEEEEEEE\n",
      "Output:\n",
      "CCCOC=CCOEEEEEEEEEEEEEEEEE\n",
      "====> Epoch: 15 Average loss: 9.03952\n",
      "====> Valid set loss: 9.08934\n",
      "Input-Target:\n",
      "COC=CCCCOEEEEEEEEEEEEEEEEE\n",
      "Output:\n",
      "CCC=CCCCOEEEEEEEEEEEEEEEEE\n",
      "====> Epoch: 16 Average loss: 10.00994\n",
      "====> Valid set loss: 10.10996\n",
      "Input-Target:\n",
      "COC=CCCCOEEEEEEEEEEEEEEEEE\n",
      "Output:\n",
      "CCC=COCCOEEEEEEEEEEEEEEEEE\n",
      "====> Epoch: 17 Average loss: 7.63432\n",
      "====> Valid set loss: 8.71993\n",
      "Input-Target:\n",
      "COC=CCCCOEEEEEEEEEEEEEEEEE\n",
      "Output:\n",
      "CCC=C=CCOEEEEEEEEEEEEEEEEE\n",
      "====> Epoch: 18 Average loss: 7.97473\n",
      "====> Valid set loss: 7.34502\n",
      "Input-Target:\n",
      "COC=CCCCOEEEEEEEEEEEEEEEEE\n",
      "Output:\n",
      "COCOCCCCOEEEEEEEEEEEEEEEEE\n",
      "====> Epoch: 19 Average loss: 6.17344\n",
      "====> Valid set loss: 7.44963\n",
      "Input-Target:\n",
      "COC=CCCCOEEEEEEEEEEEEEEEEE\n",
      "Output:\n",
      "COC=CCCCOEEEEEEEEEEEEEEEEE\n",
      "====> Epoch: 20 Average loss: 6.77507\n",
      "====> Valid set loss: 5.90584\n",
      "Input-Target:\n",
      "COC=CCCCOEEEEEEEEEEEEEEEEE\n",
      "Output:\n",
      "CCC=CCCCOEEEEEEEEEEEEEEEEE\n",
      "====> Epoch: 21 Average loss: 5.11696\n",
      "====> Valid set loss: 5.47640\n",
      "Input-Target:\n",
      "COC=CCCCOEEEEEEEEEEEEEEEEE\n",
      "Output:\n",
      "COC=CCCCOEEEEEEEEEEEEEEEEE\n",
      "====> Epoch: 22 Average loss: 4.79966\n",
      "====> Valid set loss: 6.31623\n",
      "Input-Target:\n",
      "COC=CCCCOEEEEEEEEEEEEEEEEE\n",
      "Output:\n",
      "COCOCCCCOEEEEEEEEEEEEEEEEE\n",
      "====> Epoch: 23 Average loss: 4.66174\n",
      "====> Valid set loss: 5.62304\n",
      "Input-Target:\n",
      "COC=CCCCOEEEEEEEEEEEEEEEEE\n",
      "Output:\n",
      "COC=CCCCCEEEEEEEEEEEEEEEEE\n",
      "====> Epoch: 24 Average loss: 5.05287\n",
      "====> Valid set loss: 5.38523\n",
      "Input-Target:\n",
      "COC=CCCCOEEEEEEEEEEEEEEEEE\n",
      "Output:\n",
      "COC=CCCCFEEEEEEEEEEEEEEEEE\n",
      "====> Epoch: 25 Average loss: 4.11217\n",
      "====> Valid set loss: 5.28537\n",
      "Input-Target:\n",
      "COC=CCCCOEEEEEEEEEEEEEEEEE\n",
      "Output:\n",
      "COC=CCCCOEEEEEEEEEEEEEEEEE\n",
      "\n"
     ]
    }
   ],
   "source": [
    "# Training and testing the VAE\n",
    "tr_loss_log = []\n",
    "val_loss_log = []\n",
    "\n",
    "codes = dict(μ=list(), logσ2=list())\n",
    "for epoch in tqdm(range(0, epochs + 1)):\n",
    "    # Training\n",
    "    if epoch > 0:  # test untrained net first\n",
    "        model.train()\n",
    "        train_loss = 0\n",
    "        for x in train_loader:\n",
    "            x = x[0].to(device)\n",
    "            # ===================forward=====================\n",
    "            x_hat, mu, logvar = model(x)\n",
    "            loss = loss_function(x_hat, x, mu, logvar)\n",
    "            train_loss += loss.item()\n",
    "            # ===================backward====================\n",
    "            optimizer.zero_grad()\n",
    "            loss.backward()\n",
    "            optimizer.step()\n",
    "        # ===================log========================\n",
    "        train_loss /= len(train_loader.dataset)\n",
    "        print(f'====> Epoch: {epoch} Average loss: {train_loss:.5f}')\n",
    "        tr_loss_log.append(train_loss)\n",
    "    # Testing\n",
    "    \n",
    "    means, logvars = list(), list()\n",
    "    with torch.no_grad():\n",
    "        model.eval()\n",
    "        valid_loss = 0\n",
    "        for x in valid_loader:\n",
    "            x = x[0].to(device)\n",
    "            # ===================forward=====================\n",
    "            x_hat, mu, logvar = model(x)\n",
    "            valid_loss += loss_function(x_hat, x, mu, logvar).item()\n",
    "            # =====================log=======================\n",
    "            means.append(mu.detach())\n",
    "            logvars.append(logvar.detach())\n",
    "    # ===================log========================\n",
    "    codes['μ'].append(torch.cat(means))\n",
    "    codes['logσ2'].append(torch.cat(logvars))\n",
    "    valid_loss /= len(valid_loader.dataset)\n",
    "    print(f'====> Valid set loss: {valid_loss:.5f}')\n",
    "    val_loss_log.append(valid_loss)\n",
    "    inp = np.asarray(x[0].cpu())\n",
    "    outp = np.asarray(x_hat[0].cpu().detach())\n",
    "    print(\"Input-Target:\")\n",
    "    print(\"\".join([int_to_char[idx] for idx in np.argmax(inp, axis=1)]))\n",
    "    print(\"Output:\")\n",
    "    print(\"\".join([int_to_char[idx] for idx in np.argmax(outp, axis=1)]))"
   ]
  },
  {
   "cell_type": "code",
   "execution_count": 26,
   "metadata": {
    "colab": {
     "base_uri": "https://localhost:8080/",
     "height": 285
    },
    "colab_type": "code",
    "id": "W-GMlRpCgb0j",
    "outputId": "73b4589e-2445-42a9-8c31-5ecbf4f38ab6"
   },
   "outputs": [
    {
     "data": {
      "image/png": "[encoded data removed]",
      "text/plain": [
       "<Figure size 432x288 with 1 Axes>"
      ]
     },
     "metadata": {
      "needs_background": "light",
      "tags": []
     },
     "output_type": "display_data"
    }
   ],
   "source": [
    "plt.plot(tr_loss_log)\n",
    "plt.plot(val_loss_log[1:])\n",
    "plt.ylabel('loss')\n",
    "plt.xlabel('epoch')\n",
    "plt.legend(['Train loss','Valid loss'])\n",
    "plt.show();"
   ]
  },
  {
   "cell_type": "markdown",
   "metadata": {
    "colab_type": "text",
    "id": "R2WAfs9kCsuD"
   },
   "source": [
    "# Generate based on new examples"
   ]
  },
  {
   "cell_type": "code",
   "execution_count": 27,
   "metadata": {
    "colab": {},
    "colab_type": "code",
    "id": "AGJBuPoasApE"
   },
   "outputs": [],
   "source": [
    "# Generating a few samples based on specific ones\n",
    "\n",
    "# get a batch of examples (not from train set)\n",
    "with torch.no_grad():\n",
    "    model.eval()\n",
    "    for x in valid_loader:\n",
    "        x = x[0].to(device)\n",
    "        x_hat, mu, logvar = model(x)\n",
    "        break\n",
    "\n",
    "z = model.reparameterize(mu, logvar)\n",
    "z = z[:20,:] #take 20\n",
    "\n",
    "sample = model.decode(z)\n",
    "\n",
    "_, smp = torch.max(sample, axis=2)\n",
    "smp = np.asarray(smp.cpu())\n",
    "\n",
    "def to_SML_str(smp):\n",
    "    SML = \"\".join([int_to_char[idx] for idx in smp])\n",
    "    for i, char in enumerate(SML):\n",
    "        if char==\"E\": \n",
    "            break\n",
    "    return SML[:i]"
   ]
  },
  {
   "cell_type": "code",
   "execution_count": 28,
   "metadata": {
    "colab": {
     "base_uri": "https://localhost:8080/",
     "height": 351
    },
    "colab_type": "code",
    "id": "eQo5Zso8-RWO",
    "outputId": "2a06dd3a-a334-4ece-f05c-11789cd56a22"
   },
   "outputs": [
    {
     "data": {
      "text/plain": [
       "['OCCC1CN=CO1',\n",
       " 'CCC(F)CC(N)=N',\n",
       " 'C=C1CCNN=CC1',\n",
       " 'FC1CCC1CF)C=C',\n",
       " 'O1C=CC2OC2C=C1',\n",
       " 'CCCc1ccon1',\n",
       " 'FC=CC=CC(F)=C',\n",
       " 'FC(=C)COOC=C',\n",
       " 'CC(OCC=C)=NN',\n",
       " 'CC1CCCCCC1',\n",
       " 'CON(C)C(=N)NN',\n",
       " 'CC1(CN1)C2CC2O',\n",
       " 'CC(F)(CF)C1CN1',\n",
       " 'FC1CC1(CF)C=C',\n",
       " 'CC(N)=C=CF)C=O',\n",
       " 'O=CC12CCCC1O2',\n",
       " 'CCOC(C))=CF',\n",
       " 'CN=c1nconn1',\n",
       " 'CNN=CCCC#C',\n",
       " 'FC1CCC=CCC1']"
      ]
     },
     "execution_count": 28,
     "metadata": {
      "tags": []
     },
     "output_type": "execute_result"
    }
   ],
   "source": [
    "[to_SML_str(s) for s in smp]"
   ]
  },
  {
   "cell_type": "code",
   "execution_count": 29,
   "metadata": {
    "colab": {
     "base_uri": "https://localhost:8080/",
     "height": 917
    },
    "colab_type": "code",
    "id": "800yU8MwAEqQ",
    "outputId": "1cc17328-1d99-414e-af5b-3b11182454c4"
   },
   "outputs": [
    {
     "name": "stderr",
     "output_type": "stream",
     "text": [
      "RDKit ERROR: [13:12:38] SMILES Parse Error: extra close parentheses while parsing: FC1CCC1CF)C=C\n",
      "RDKit ERROR: [13:12:38] SMILES Parse Error: Failed parsing SMILES 'FC1CCC1CF)C=C' for input: 'FC1CCC1CF)C=C'\n",
      "RDKit ERROR: [13:12:38] SMILES Parse Error: extra close parentheses while parsing: CC(N)=C=CF)C=O\n",
      "RDKit ERROR: [13:12:38] SMILES Parse Error: Failed parsing SMILES 'CC(N)=C=CF)C=O' for input: 'CC(N)=C=CF)C=O'\n",
      "RDKit ERROR: [13:12:38] SMILES Parse Error: extra close parentheses while parsing: CCOC(C))=CF\n",
      "RDKit ERROR: [13:12:38] SMILES Parse Error: Failed parsing SMILES 'CCOC(C))=CF' for input: 'CCOC(C))=CF'\n"
     ]
    },
    {
     "data": {
      "image/png": "[encoded data removed]",
      "text/plain": [
       "<PIL.PngImagePlugin.PngImageFile image mode=RGB size=1000x800 at 0x7F2FCE6ED668>"
      ]
     },
     "execution_count": 29,
     "metadata": {
      "tags": []
     },
     "output_type": "execute_result"
    }
   ],
   "source": [
    "smiles_list = [to_SML_str(s) for s in smp]\n",
    "mol_list = []\n",
    "for smile in smiles_list:\n",
    "  mol = Chem.MolFromSmiles(smile)\n",
    "  mol_list.append(mol)\n",
    "\n",
    "img = Chem.Draw.MolsToGridImage(mol_list, molsPerRow=5)\n",
    "img"
   ]
  },
  {
   "cell_type": "markdown",
   "metadata": {
    "colab_type": "text",
    "id": "9xd0I12FW9XA"
   },
   "source": [
    "We can see that some of the molecules are not proper."
   ]
  },
  {
   "cell_type": "markdown",
   "metadata": {
    "colab_type": "text",
    "id": "Ib3aw5Ft11ei"
   },
   "source": [
    "# References:\n",
    "\n",
    "\n",
    "1.   [Master your molecule generator: Seq2seq RNN models with SMILES in Keras / by Esben Jannik Bjerrum from cheminformania.com](http://www.cheminformania.com/master-your-molecule-generator-seq2seq-rnn-models-with-smiles-in-keras/)\n",
    "2.   [install rdkit in google colab / github repo by Hirotomo Moriwaki](https://gist.github.com/philopon/a75a33919d9ae41dbed5bc6a39f5ede2)\n",
    "3.   [Automatic Chemical Design Using a Data-Driven Continuous Representation of Molecules / by\n",
    "Rafael Gómez-Bombarelli, Jennifer N. Wei, David Duvenaud, José Miguel Hernández-Lobato, Benjamín Sánchez-Lengeling, Dennis Sheberla, Jorge Aguilera-Iparraguirre, Timothy D. Hirzel, Ryan P. Adams, and Alán Aspuru-Guzik\n",
    "ACS Central Science 2018 4 (2), 268-276\n",
    "DOI: 10.1021/acscentsci.7b00572](https://pubs.acs.org/doi/10.1021/acscentsci.7b00572)\n",
    "4.   [molecular-vae / github repo by Akshay Subramanian](https://github.com/aksub99/molecular-vae)\n",
    "5.   [Pytorch-Deep-Learning github repo by Alfredo Canziani](https://github.com/Atcold/pytorch-Deep-Learning)\n",
    "\n"
   ]
  }
 ],
 "metadata": {
  "accelerator": "GPU",
  "colab": {
   "collapsed_sections": [],
   "name": "VAE mini-Project Pytorch.ipynb",
   "provenance": []
  },
  "kernelspec": {
   "display_name": "Python 3",
   "language": "python",
   "name": "python3"
  },
  "language_info": {
   "codemirror_mode": {
    "name": "ipython",
    "version": 3
   },
   "file_extension": ".py",
   "mimetype": "text/x-python",
   "name": "python",
   "nbconvert_exporter": "python",
   "pygments_lexer": "ipython3",
   "version": "3.6.10"
  },
  "widgets": {
   "application/vnd.jupyter.widget-state+json": {
    "30eaac9517a64d1993bd48d3fd418884": {
     "model_module": "@jupyter-widgets/controls",
     "model_name": "HBoxModel",
     "state": {
      "_dom_classes": [],
      "_model_module": "@jupyter-widgets/controls",
      "_model_module_version": "1.5.0",
      "_model_name": "HBoxModel",
      "_view_count": null,
      "_view_module": "@jupyter-widgets/controls",
      "_view_module_version": "1.5.0",
      "_view_name": "HBoxView",
      "box_style": "",
      "children": [
       "IPY_MODEL_31cdb4faefc74b65b8c2eb1e1a2c0feb",
       "IPY_MODEL_f0086ae346a842349d999c3693bfb948"
      ],
      "layout": "IPY_MODEL_a8e2cdf0daf74cbfb723416789bf76f4"
     }
    },
    "31cdb4faefc74b65b8c2eb1e1a2c0feb": {
     "model_module": "@jupyter-widgets/controls",
     "model_name": "FloatProgressModel",
     "state": {
      "_dom_classes": [],
      "_model_module": "@jupyter-widgets/controls",
      "_model_module_version": "1.5.0",
      "_model_name": "FloatProgressModel",
      "_view_count": null,
      "_view_module": "@jupyter-widgets/controls",
      "_view_module_version": "1.5.0",
      "_view_name": "ProgressView",
      "bar_style": "success",
      "description": "100%",
      "description_tooltip": null,
      "layout": "IPY_MODEL_d03ef04dbff84552a5801e3a9abb2386",
      "max": 26,
      "min": 0,
      "orientation": "horizontal",
      "style": "IPY_MODEL_b755890dd2af4f47a0a5f4a248ad2b42",
      "value": 26
     }
    },
    "a8e2cdf0daf74cbfb723416789bf76f4": {
     "model_module": "@jupyter-widgets/base",
     "model_name": "LayoutModel",
     "state": {
      "_model_module": "@jupyter-widgets/base",
      "_model_module_version": "1.2.0",
      "_model_name": "LayoutModel",
      "_view_count": null,
      "_view_module": "@jupyter-widgets/base",
      "_view_module_version": "1.2.0",
      "_view_name": "LayoutView",
      "align_content": null,
      "align_items": null,
      "align_self": null,
      "border": null,
      "bottom": null,
      "display": null,
      "flex": null,
      "flex_flow": null,
      "grid_area": null,
      "grid_auto_columns": null,
      "grid_auto_flow": null,
      "grid_auto_rows": null,
      "grid_column": null,
      "grid_gap": null,
      "grid_row": null,
      "grid_template_areas": null,
      "grid_template_columns": null,
      "grid_template_rows": null,
      "height": null,
      "justify_content": null,
      "justify_items": null,
      "left": null,
      "margin": null,
      "max_height": null,
      "max_width": null,
      "min_height": null,
      "min_width": null,
      "object_fit": null,
      "object_position": null,
      "order": null,
      "overflow": null,
      "overflow_x": null,
      "overflow_y": null,
      "padding": null,
      "right": null,
      "top": null,
      "visibility": null,
      "width": null
     }
    },
    "adea4a33144c45c6a115cf2db2d79e25": {
     "model_module": "@jupyter-widgets/controls",
     "model_name": "DescriptionStyleModel",
     "state": {
      "_model_module": "@jupyter-widgets/controls",
      "_model_module_version": "1.5.0",
      "_model_name": "DescriptionStyleModel",
      "_view_count": null,
      "_view_module": "@jupyter-widgets/base",
      "_view_module_version": "1.2.0",
      "_view_name": "StyleView",
      "description_width": ""
     }
    },
    "b755890dd2af4f47a0a5f4a248ad2b42": {
     "model_module": "@jupyter-widgets/controls",
     "model_name": "ProgressStyleModel",
     "state": {
      "_model_module": "@jupyter-widgets/controls",
      "_model_module_version": "1.5.0",
      "_model_name": "ProgressStyleModel",
      "_view_count": null,
      "_view_module": "@jupyter-widgets/base",
      "_view_module_version": "1.2.0",
      "_view_name": "StyleView",
      "bar_color": null,
      "description_width": "initial"
     }
    },
    "d03ef04dbff84552a5801e3a9abb2386": {
     "model_module": "@jupyter-widgets/base",
     "model_name": "LayoutModel",
     "state": {
      "_model_module": "@jupyter-widgets/base",
      "_model_module_version": "1.2.0",
      "_model_name": "LayoutModel",
      "_view_count": null,
      "_view_module": "@jupyter-widgets/base",
      "_view_module_version": "1.2.0",
      "_view_name": "LayoutView",
      "align_content": null,
      "align_items": null,
      "align_self": null,
      "border": null,
      "bottom": null,
      "display": null,
      "flex": null,
      "flex_flow": null,
      "grid_area": null,
      "grid_auto_columns": null,
      "grid_auto_flow": null,
      "grid_auto_rows": null,
      "grid_column": null,
      "grid_gap": null,
      "grid_row": null,
      "grid_template_areas": null,
      "grid_template_columns": null,
      "grid_template_rows": null,
      "height": null,
      "justify_content": null,
      "justify_items": null,
      "left": null,
      "margin": null,
      "max_height": null,
      "max_width": null,
      "min_height": null,
      "min_width": null,
      "object_fit": null,
      "object_position": null,
      "order": null,
      "overflow": null,
      "overflow_x": null,
      "overflow_y": null,
      "padding": null,
      "right": null,
      "top": null,
      "visibility": null,
      "width": null
     }
    },
    "d540fb8bc7a649c1b537034efb18a5b8": {
     "model_module": "@jupyter-widgets/base",
     "model_name": "LayoutModel",
     "state": {
      "_model_module": "@jupyter-widgets/base",
      "_model_module_version": "1.2.0",
      "_model_name": "LayoutModel",
      "_view_count": null,
      "_view_module": "@jupyter-widgets/base",
      "_view_module_version": "1.2.0",
      "_view_name": "LayoutView",
      "align_content": null,
      "align_items": null,
      "align_self": null,
      "border": null,
      "bottom": null,
      "display": null,
      "flex": null,
      "flex_flow": null,
      "grid_area": null,
      "grid_auto_columns": null,
      "grid_auto_flow": null,
      "grid_auto_rows": null,
      "grid_column": null,
      "grid_gap": null,
      "grid_row": null,
      "grid_template_areas": null,
      "grid_template_columns": null,
      "grid_template_rows": null,
      "height": null,
      "justify_content": null,
      "justify_items": null,
      "left": null,
      "margin": null,
      "max_height": null,
      "max_width": null,
      "min_height": null,
      "min_width": null,
      "object_fit": null,
      "object_position": null,
      "order": null,
      "overflow": null,
      "overflow_x": null,
      "overflow_y": null,
      "padding": null,
      "right": null,
      "top": null,
      "visibility": null,
      "width": null
     }
    },
    "f0086ae346a842349d999c3693bfb948": {
     "model_module": "@jupyter-widgets/controls",
     "model_name": "HTMLModel",
     "state": {
      "_dom_classes": [],
      "_model_module": "@jupyter-widgets/controls",
      "_model_module_version": "1.5.0",
      "_model_name": "HTMLModel",
      "_view_count": null,
      "_view_module": "@jupyter-widgets/controls",
      "_view_module_version": "1.5.0",
      "_view_name": "HTMLView",
      "description": "",
      "description_tooltip": null,
      "layout": "IPY_MODEL_d540fb8bc7a649c1b537034efb18a5b8",
      "placeholder": "​",
      "style": "IPY_MODEL_adea4a33144c45c6a115cf2db2d79e25",
      "value": " 26/26 [12:00&lt;00:00, 27.70s/it]"
     }
    }
   }
  }
 },
 "nbformat": 4,
 "nbformat_minor": 1
}
