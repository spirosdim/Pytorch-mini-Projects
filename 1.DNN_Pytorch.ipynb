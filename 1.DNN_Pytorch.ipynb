{
  "nbformat": 4,
  "nbformat_minor": 0,
  "metadata": {
    "colab": {
      "name": "Copy of Pytorch_DNN.ipynb",
      "provenance": [],
      "collapsed_sections": []
    },
    "kernelspec": {
      "name": "python3",
      "display_name": "Python 3"
    },
    "accelerator": "GPU"
  },
  "cells": [
    {
      "cell_type": "markdown",
      "metadata": {
        "id": "VV8WxBpKfxZo",
        "colab_type": "text"
      },
      "source": [
        "# Fully Conected Neural Network in Pytorch\n",
        "\n",
        "Data used in this notebook are from the Kitsune Network Attack Dataset, https://archive.ics.uci.edu/ml/datasets/Kitsune+Network+Attack+Dataset . We will focus on the 'Mirai' part of the dataset to make a DNN that can classify if each attack is benign or malicious. The dataset has 116 covariates, but to make it a bit more difficult we will remove the first 24 covariates.\n",
        "\n",
        "Most of the Pytorch code is adapted from the online course [Deep Learning with PyTorch: Zero to GANs](https://jovian.ml/forum/t/start-here-welcome-to-deep-learning-with-pytorch-zero-to-gans/1622) and Video lectures are available on the [FreeCodeCamp YouTube](https://www.youtube.com/playlist?list=PLWKjhJtqVAbm3T2Eq1_KgloC7ogdXxdRa) channel.\n",
        "\n",
        "The functions that are used are based on [fast.ai](https://docs.fast.ai/) library which has some [free online courses](https://www.fast.ai/) with great explanations by Jeremy Howard."
      ]
    },
    {
      "cell_type": "markdown",
      "metadata": {
        "id": "c7KkvHv0gDVm",
        "colab_type": "text"
      },
      "source": [
        "# Part 1: Get the data\n",
        "\n",
        "\n",
        "*   Use `wget` to download the files\n",
        "\n",
        "*   Use `gunzip` to upack the files into csv\n",
        "\n",
        "*   Read the csv files into numpy arrays\n",
        "\n",
        "*   Mount the drive to the colab\n",
        "\n",
        "*   Pickle the numpy arrays to save space in drive\n",
        "\n",
        "*   Save the pickles for the next time in the drive\n",
        "\n",
        "\n"
      ]
    },
    {
      "cell_type": "code",
      "metadata": {
        "id": "DKIgpA9ji1DU",
        "colab_type": "code",
        "colab": {}
      },
      "source": [
        "!wget https://archive.ics.uci.edu/ml/machine-learning-databases/00516/mirai/Mirai_dataset.csv.gz\n",
        "!wget https://archive.ics.uci.edu/ml/machine-learning-databases/00516/mirai/Mirai_labels.csv.gz"
      ],
      "execution_count": null,
      "outputs": []
    },
    {
      "cell_type": "code",
      "metadata": {
        "id": "PvRZimP7jCjT",
        "colab_type": "code",
        "colab": {}
      },
      "source": [
        "!gunzip Mirai_dataset.csv.gz\n",
        "!gunzip Mirai_labels.csv.gz"
      ],
      "execution_count": null,
      "outputs": []
    },
    {
      "cell_type": "code",
      "metadata": {
        "id": "UReArmtvl1x7",
        "colab_type": "code",
        "colab": {}
      },
      "source": [
        "import numpy as np\n",
        "\n",
        "# Load data from csv file\n",
        "X = np.genfromtxt(\"Mirai_dataset.csv\", delimiter=\",\")\n",
        "Y = np.genfromtxt(\"Mirai_labels.csv\", delimiter=\",\")"
      ],
      "execution_count": null,
      "outputs": []
    },
    {
      "cell_type": "code",
      "metadata": {
        "id": "UUgagABBfjP0",
        "colab_type": "code",
        "colab": {}
      },
      "source": [
        "# mount the drive to have access in this colab \n",
        "from google.colab import drive\n",
        "drive.mount('/content/drive')"
      ],
      "execution_count": null,
      "outputs": []
    },
    {
      "cell_type": "code",
      "metadata": {
        "id": "_maofVOUlF8i",
        "colab_type": "code",
        "colab": {}
      },
      "source": [
        "# save the numpy arrays as pickle files (it needs less space than as csv)\n",
        "import pickle\n",
        "\n",
        "pickle_X = open(\"/content/drive/My Drive/X.pickle\",\"wb\")\n",
        "pickle.dump(X, pickle_X)\n",
        "pickle_X.close()\n",
        "\n",
        "pickle_y = open(\"/content/drive/My Drive/y.pickle\",\"wb\")\n",
        "pickle.dump(Y, pickle_y)\n",
        "pickle_y.close()"
      ],
      "execution_count": null,
      "outputs": []
    },
    {
      "cell_type": "markdown",
      "metadata": {
        "id": "E1XAaoAZmvJs",
        "colab_type": "text"
      },
      "source": [
        "## Now to access the data each time just load them from the drive"
      ]
    },
    {
      "cell_type": "code",
      "metadata": {
        "id": "5Co-Igk0fs28",
        "colab_type": "code",
        "colab": {
          "base_uri": "https://localhost:8080/",
          "height": 53
        },
        "outputId": "6990710f-4bc2-4d24-b1d7-5847971b69c3"
      },
      "source": [
        "# mount the drive to have access in this colab \n",
        "from google.colab import drive\n",
        "drive.mount('/content/drive')"
      ],
      "execution_count": 2,
      "outputs": [
        {
          "output_type": "stream",
          "text": [
            "Drive already mounted at /content/drive; to attempt to forcibly remount, call drive.mount(\"/content/drive\", force_remount=True).\n"
          ],
          "name": "stdout"
        }
      ]
    },
    {
      "cell_type": "code",
      "metadata": {
        "id": "nfE3IYNXft78",
        "colab_type": "code",
        "colab": {}
      },
      "source": [
        "# load the pickle\n",
        "import pickle\n",
        "import numpy as np\n",
        "pickle_X = open(\"/content/drive/My Drive/X.pickle\",\"rb\")\n",
        "X = pickle.load(pickle_X)\n",
        "\n",
        "pickle_y = open(\"/content/drive/My Drive/y.pickle\",\"rb\")\n",
        "Y = pickle.load(pickle_y)"
      ],
      "execution_count": null,
      "outputs": []
    },
    {
      "cell_type": "code",
      "metadata": {
        "id": "Inr6RmUsft2L",
        "colab_type": "code",
        "colab": {}
      },
      "source": [
        "# Remove the first 24 covariates to make the problem more difficult\n",
        "X = X[:,24:]\n",
        "X = X.astype(float)\n",
        "Y = Y.astype(int)"
      ],
      "execution_count": 4,
      "outputs": []
    },
    {
      "cell_type": "markdown",
      "metadata": {
        "id": "hG55wcsipihX",
        "colab_type": "text"
      },
      "source": [
        "## Quick check\n",
        "* the length of X and y\n",
        "* the number of exampels of each class\n",
        "* if we have NaNs\n",
        "* because we have impalanced data, check a naive classifier that always predicts class 1"
      ]
    },
    {
      "cell_type": "code",
      "metadata": {
        "id": "vFrxMUxkqG7X",
        "colab_type": "code",
        "colab": {
          "base_uri": "https://localhost:8080/",
          "height": 84
        },
        "outputId": "fb014a6c-eb8f-405a-d62a-9413d53ea5ac"
      },
      "source": [
        "print('The covariates have size {}.'.format(X.shape))\n",
        "print('The labels have size {}.'.format(Y.shape))\n",
        "\n",
        "# Print the number of examples of each class\n",
        "print('The 0 class has {} examples.'.format(len(Y[Y==0])))\n",
        "print('The 1 class has {} examples.'.format(len(Y[Y==1])))"
      ],
      "execution_count": 5,
      "outputs": [
        {
          "output_type": "stream",
          "text": [
            "The covariates have size (764137, 92).\n",
            "The labels have size (764137,).\n",
            "The 0 class has 121621 examples.\n",
            "The 1 class has 642516 examples.\n"
          ],
          "name": "stdout"
        }
      ]
    },
    {
      "cell_type": "code",
      "metadata": {
        "id": "GRBhRlCnpNZW",
        "colab_type": "code",
        "colab": {
          "base_uri": "https://localhost:8080/",
          "height": 67
        },
        "outputId": "be14c160-19c2-49c7-dc7e-202ca85548c9"
      },
      "source": [
        "print(\"The number of NaNs in the labels: {}.\".format(np.sum(np.isnan(X))))\n",
        "print(\"The number of NaNs in the data: {}.\".format(np.sum(np.isnan(Y))))\n",
        "\n",
        "# Performance of a naive classifier\n",
        "print('Α naive classifier predicting allways class 1 can obtain {}% accuracy.'.format(round(100*len(Y[Y==1])/len(Y),3)))"
      ],
      "execution_count": 6,
      "outputs": [
        {
          "output_type": "stream",
          "text": [
            "The number of NaNs in the labels: 0.\n",
            "The number of NaNs in the data: 0.\n",
            "Α naive classifier predicting allways class 1 can obtain 84.084% accuracy.\n"
          ],
          "name": "stdout"
        }
      ]
    },
    {
      "cell_type": "markdown",
      "metadata": {
        "id": "zDOBrYdqrJ-m",
        "colab_type": "text"
      },
      "source": [
        "# Part 2: Preprocessing\n",
        "\n",
        "\n",
        "\n",
        "*   use sklearn to split the data into train, validation and test sets\n",
        "*   standardize the data to have mean=0 and sd=1, by subtracting the mean of train data and divide then by the sd of train data\n",
        "*   convert all sets into torch Tensors\n",
        "*   out the data into torch DataLoders for convinience in training\"\n",
        "\n"
      ]
    },
    {
      "cell_type": "code",
      "metadata": {
        "id": "Gkt1uBh5_0Uw",
        "colab_type": "code",
        "colab": {}
      },
      "source": [
        "## train test split using sckitlearn (and shuffle)\n",
        "from sklearn.model_selection import train_test_split\n",
        "Xtrain, Xtemp, Ytrain, Ytemp = train_test_split(X, Y, test_size=0.3, \n",
        "                                                random_state=10, shuffle=True)\n",
        "\n",
        "Xtest, Xvalid, Ytest, Yvalid = train_test_split(Xtemp, Ytemp, test_size=0.5, \n",
        "                                                random_state=10, shuffle=True)\n"
      ],
      "execution_count": 7,
      "outputs": []
    },
    {
      "cell_type": "code",
      "metadata": {
        "id": "kuJQNWiFInMf",
        "colab_type": "code",
        "colab": {}
      },
      "source": [
        "### standardize the data to mean=0 and sd=1\n",
        "# find the mean and sd for each feature\n",
        "mu = np.mean(Xtrain, axis=0)\n",
        "sd = np.std(Xtrain, axis=0)\n",
        "# standardize the Xtrain\n",
        "Xtrain = (Xtrain-mu)/sd\n",
        "# standardize with the same mean and sd\n",
        "Xvalid = (Xvalid-mu)/sd\n",
        "Xtest = (Xtest-mu)/sd"
      ],
      "execution_count": 8,
      "outputs": []
    },
    {
      "cell_type": "code",
      "metadata": {
        "id": "zDh1mo7T0ZNi",
        "colab_type": "code",
        "colab": {
          "base_uri": "https://localhost:8080/",
          "height": 67
        },
        "outputId": "84314700-74b5-4b1b-9d77-266db1e56b20"
      },
      "source": [
        "print('Τrain set, {}: 0 class and {}: 1 class.'.format(np.bincount(Ytrain)[0],np.bincount(Ytrain)[1]))\n",
        "print('Valid set, {}: 0 class and {}: 1 class.'.format(np.bincount(Yvalid)[0],np.bincount(Yvalid)[1]))\n",
        "print('Τest  set, {}: 0 class and {}: 1 class.'.format(np.bincount(Ytest)[0],np.bincount(Ytest)[1]))"
      ],
      "execution_count": 9,
      "outputs": [
        {
          "output_type": "stream",
          "text": [
            "Τrain set, 85168: 0 class and 449727: 1 class.\n",
            "Valid set, 18106: 0 class and 96515: 1 class.\n",
            "Τest  set, 18347: 0 class and 96274: 1 class.\n"
          ],
          "name": "stdout"
        }
      ]
    },
    {
      "cell_type": "markdown",
      "metadata": {
        "id": "qR9YpDMjOe3w",
        "colab_type": "text"
      },
      "source": [
        "## Convert the data into torch Tensors and load data to GPU"
      ]
    },
    {
      "cell_type": "code",
      "metadata": {
        "id": "8ETGBqH6I5Jc",
        "colab_type": "code",
        "colab": {}
      },
      "source": [
        "import torch\n",
        "import torch.nn as nn\n",
        "import torch.nn.functional as F\n",
        "\n",
        "import time\n",
        "import matplotlib.pyplot as plt\n",
        "%matplotlib inline"
      ],
      "execution_count": 10,
      "outputs": []
    },
    {
      "cell_type": "code",
      "metadata": {
        "id": "1-qLXzGQpNNU",
        "colab_type": "code",
        "colab": {}
      },
      "source": [
        "## transform numpy arrays to Tensors\n",
        "Xtrain = torch.from_numpy(Xtrain).float()\n",
        "Ytrain = torch.from_numpy(Ytrain)\n",
        "\n",
        "Xvalid = torch.from_numpy(Xvalid).float()\n",
        "Yvalid = torch.from_numpy(Yvalid)\n",
        "\n",
        "Xtest = torch.from_numpy(Xtest).float()\n",
        "Ytest = torch.from_numpy(Ytest)"
      ],
      "execution_count": 11,
      "outputs": []
    },
    {
      "cell_type": "code",
      "metadata": {
        "id": "nnXMwb4mpNKI",
        "colab_type": "code",
        "colab": {}
      },
      "source": [
        "BATCH_SIZE = 8192 #1024\n",
        "\n",
        "# Pytorch TensorDatasets\n",
        "train = torch.utils.data.TensorDataset(Xtrain, Ytrain)\n",
        "valid = torch.utils.data.TensorDataset(Xvalid, Yvalid)\n",
        "test  = torch.utils.data.TensorDataset(Xtest, Ytest)\n",
        "\n",
        "# Pytorch DataLoader\n",
        "#shuffle=True i.e. in every epoch each batch has different observations, helps stochasticity\n",
        "train_loader = torch.utils.data.DataLoader(train, batch_size=BATCH_SIZE, shuffle=True, num_workers=3, pin_memory=True)\n",
        "valid_loader = torch.utils.data.DataLoader(valid, batch_size=BATCH_SIZE*2, num_workers=3, pin_memory=True)\n",
        "test_loader = torch.utils.data.DataLoader(test, batch_size=BATCH_SIZE*2, num_workers=3, pin_memory=True)"
      ],
      "execution_count": 16,
      "outputs": []
    },
    {
      "cell_type": "code",
      "metadata": {
        "id": "2khIckic--B0",
        "colab_type": "code",
        "colab": {}
      },
      "source": [
        "def get_default_device():\n",
        "    \"\"\"Pick GPU if available, else CPU\"\"\"\n",
        "    if torch.cuda.is_available():\n",
        "        return torch.device('cuda')\n",
        "    else:\n",
        "        return torch.device('cpu')\n",
        "    \n",
        "def to_device(data, device):\n",
        "    \"\"\"Move tensor(s) to chosen device\"\"\"\n",
        "    if isinstance(data, (list,tuple)):\n",
        "        return [to_device(x, device) for x in data]\n",
        "    return data.to(device, non_blocking=True)\n",
        "\n",
        "class DeviceDataLoader():\n",
        "    \"\"\"Wrap a dataloader to move data to a device\"\"\"\n",
        "    def __init__(self, dl, device):\n",
        "        self.dl = dl\n",
        "        self.device = device\n",
        "        \n",
        "    def __iter__(self):\n",
        "        \"\"\"Yield a batch of data after moving it to device\"\"\"\n",
        "        for b in self.dl: \n",
        "            yield to_device(b, self.device)\n",
        "\n",
        "    def __len__(self):\n",
        "        \"\"\"Number of batches\"\"\"\n",
        "        return len(self.dl)"
      ],
      "execution_count": 17,
      "outputs": []
    },
    {
      "cell_type": "code",
      "metadata": {
        "id": "joPxmLX2Bkpd",
        "colab_type": "code",
        "colab": {
          "base_uri": "https://localhost:8080/",
          "height": 33
        },
        "outputId": "b40c6df8-0179-4a21-9296-e89a818f099c"
      },
      "source": [
        "device = get_default_device()\n",
        "device"
      ],
      "execution_count": 18,
      "outputs": [
        {
          "output_type": "execute_result",
          "data": {
            "text/plain": [
              "device(type='cuda')"
            ]
          },
          "metadata": {
            "tags": []
          },
          "execution_count": 18
        }
      ]
    },
    {
      "cell_type": "code",
      "metadata": {
        "id": "CavRRY8jOPKG",
        "colab_type": "code",
        "colab": {}
      },
      "source": [
        "# load data\n",
        "train_dl = DeviceDataLoader(train_loader, device)\n",
        "val_dl = DeviceDataLoader(valid_loader, device)"
      ],
      "execution_count": 19,
      "outputs": []
    },
    {
      "cell_type": "markdown",
      "metadata": {
        "id": "h9Ve4PtsNjmU",
        "colab_type": "text"
      },
      "source": [
        "# Part 3: Pytorch Model"
      ]
    },
    {
      "cell_type": "code",
      "metadata": {
        "id": "XZduyMhz-lhe",
        "colab_type": "code",
        "colab": {}
      },
      "source": [
        "def accuracy(outputs, labels):\n",
        "    _, preds = torch.max(outputs, dim=1)\n",
        "    return torch.tensor(torch.sum(preds == labels).item() / len(preds))\n",
        "\n",
        "class ClassificationBase(nn.Module):\n",
        "    def training_step(self, batch):\n",
        "        inputs, labels = batch \n",
        "        out = self(inputs)                  # Generate predictions\n",
        "        loss = F.cross_entropy(out, labels) # Calculate loss\n",
        "        return loss\n",
        "    \n",
        "    def validation_step(self, batch):\n",
        "        inputs, labels = batch \n",
        "        out = self(inputs)                    # Generate predictions\n",
        "        loss = F.cross_entropy(out, labels)   # Calculate loss\n",
        "        acc = accuracy(out, labels)           # Calculate accuracy\n",
        "        return {'val_loss': loss.detach(), 'val_acc': acc}\n",
        "        \n",
        "    def validation_epoch_end(self, outputs):\n",
        "        batch_losses = [x['val_loss'] for x in outputs]\n",
        "        epoch_loss = torch.stack(batch_losses).mean()   # Combine losses\n",
        "        batch_accs = [x['val_acc'] for x in outputs]\n",
        "        epoch_acc = torch.stack(batch_accs).mean()      # Combine accuracies\n",
        "        return {'val_loss': epoch_loss.item(), 'val_acc': epoch_acc.item()}\n",
        "    \n",
        "    def epoch_end(self, epoch, result):\n",
        "        print(\"Epoch [{}], train_loss: {:.4f}, val_loss: {:.4f}, val_acc: {:.4f}\".format(\n",
        "            epoch, result['train_loss'], result['val_loss'], result['val_acc']))"
      ],
      "execution_count": 20,
      "outputs": []
    },
    {
      "cell_type": "code",
      "metadata": {
        "id": "Mhj1jsR3--Ip",
        "colab_type": "code",
        "colab": {}
      },
      "source": [
        "class DNNmodel(ClassificationBase):\n",
        "  def __init__(self, num_features, num_hidden1, num_hidden2,num_classes, drop_proba):\n",
        "    super(DNNmodel, self).__init__()\n",
        "    self.drop_proba = drop_proba\n",
        "    # 1st hidden layer\n",
        "    self.linear_1 = torch.nn.Linear(num_features, num_hidden1)\n",
        "    self.linear_1_bn = torch.nn.BatchNorm1d(num_hidden1)\n",
        "    # 2nd layer\n",
        "    self.linear_2 = torch.nn.Linear(num_hidden1, num_hidden2)\n",
        "    self.linear_2_bn = torch.nn.BatchNorm1d(num_hidden2)\n",
        "    # Output layer\n",
        "    self.linear_out = torch.nn.Linear(num_hidden2, num_classes)\n",
        "\n",
        "  def forward(self, x):\n",
        "    out = self.linear_1(x)\n",
        "    out = self.linear_1_bn(out)\n",
        "    out = F.relu(out)\n",
        "    out = F.dropout(out, p=self.drop_proba, training=self.training)\n",
        "    out = self.linear_2(out)\n",
        "    out = self.linear_2_bn(out)\n",
        "    out = F.relu(out)\n",
        "    out = F.dropout(out, p=self.drop_proba, training=self.training)\n",
        "    out = self.linear_out(out)\n",
        "    return out\n",
        "\n",
        "model = DNNmodel(92, 20, 20, 2, drop_proba=0.2)"
      ],
      "execution_count": 21,
      "outputs": []
    },
    {
      "cell_type": "code",
      "metadata": {
        "id": "eBDapk_6--Ew",
        "colab_type": "code",
        "colab": {
          "base_uri": "https://localhost:8080/",
          "height": 134
        },
        "outputId": "e5e2855f-71a4-4821-f63a-4dca957f4d8b"
      },
      "source": [
        "# The architecture of the fully connected network\n",
        "model"
      ],
      "execution_count": 22,
      "outputs": [
        {
          "output_type": "execute_result",
          "data": {
            "text/plain": [
              "DNNmodel(\n",
              "  (linear_1): Linear(in_features=92, out_features=20, bias=True)\n",
              "  (linear_1_bn): BatchNorm1d(20, eps=1e-05, momentum=0.1, affine=True, track_running_stats=True)\n",
              "  (linear_2): Linear(in_features=20, out_features=20, bias=True)\n",
              "  (linear_2_bn): BatchNorm1d(20, eps=1e-05, momentum=0.1, affine=True, track_running_stats=True)\n",
              "  (linear_out): Linear(in_features=20, out_features=2, bias=True)\n",
              ")"
            ]
          },
          "metadata": {
            "tags": []
          },
          "execution_count": 22
        }
      ]
    },
    {
      "cell_type": "code",
      "metadata": {
        "id": "Zh5YRfgyBklb",
        "colab_type": "code",
        "colab": {}
      },
      "source": [
        "# load model to GPU\n",
        "to_device(model, device);"
      ],
      "execution_count": 23,
      "outputs": []
    },
    {
      "cell_type": "markdown",
      "metadata": {
        "id": "xMa7HqttP_eN",
        "colab_type": "text"
      },
      "source": [
        "# Part 4: Training"
      ]
    },
    {
      "cell_type": "code",
      "metadata": {
        "id": "HT_4UvbBBkj6",
        "colab_type": "code",
        "colab": {}
      },
      "source": [
        "@torch.no_grad()\n",
        "def evaluate(model, val_loader):\n",
        "    model.eval()\n",
        "    outputs = [model.validation_step(batch) for batch in val_loader]\n",
        "    return model.validation_epoch_end(outputs)\n",
        "\n",
        "def adjust_learning_rate(optimizer, decay=0.2):    \n",
        "    for param_group in optimizer.param_groups:\n",
        "      param_group['lr'] = decay * param_group['lr']\n",
        "      print(f\"New learning rate: {param_group['lr']}\")\n",
        "\n",
        "def fit(epochs, lr, model, train_loader, val_loader, opt_func=torch.optim.SGD):\n",
        "    history = []\n",
        "    optimizer = opt_func(model.parameters(), lr)\n",
        "    for epoch in range(epochs):\n",
        "        # Decaying Learning Rate\n",
        "        if epoch>20 and not (epoch)%3:\n",
        "            adjust_learning_rate(optimizer)\n",
        "        # Training Phase \n",
        "        model.train()\n",
        "        train_losses = []\n",
        "        for batch in train_loader:\n",
        "            loss = model.training_step(batch)\n",
        "            train_losses.append(loss)\n",
        "            loss.backward()\n",
        "            optimizer.step()\n",
        "            optimizer.zero_grad()\n",
        "        # Validation phase\n",
        "        result = evaluate(model, val_loader)\n",
        "        result['train_loss'] = torch.stack(train_losses).mean().item()\n",
        "        model.epoch_end(epoch, result)\n",
        "        history.append(result)\n",
        "    return history"
      ],
      "execution_count": 58,
      "outputs": []
    },
    {
      "cell_type": "code",
      "metadata": {
        "id": "tcUW5MIZBkej",
        "colab_type": "code",
        "colab": {}
      },
      "source": [
        "num_epochs = 30\n",
        "opt_func = torch.optim.Adam\n",
        "lr = 0.01"
      ],
      "execution_count": 59,
      "outputs": []
    },
    {
      "cell_type": "code",
      "metadata": {
        "id": "dd8ui0OIKtWr",
        "colab_type": "code",
        "colab": {}
      },
      "source": [
        "# if need to reinitialize the weights\n",
        "model = DNNmodel(92, 20, 20, 2, drop_proba=0.2)\n",
        "to_device(model, device);"
      ],
      "execution_count": 60,
      "outputs": []
    },
    {
      "cell_type": "code",
      "metadata": {
        "id": "hTa7OI4lGQeP",
        "colab_type": "code",
        "colab": {
          "base_uri": "https://localhost:8080/",
          "height": 33
        },
        "outputId": "344f0437-b6cb-4bce-8088-3c1e493a00b0"
      },
      "source": [
        "# with the initial random weight we get validation accuracy\n",
        "history = [evaluate(model, val_dl)]\n",
        "history"
      ],
      "execution_count": 61,
      "outputs": [
        {
          "output_type": "execute_result",
          "data": {
            "text/plain": [
              "[{'val_acc': 0.8413321375846863, 'val_loss': 0.6529019474983215}]"
            ]
          },
          "metadata": {
            "tags": []
          },
          "execution_count": 61
        }
      ]
    },
    {
      "cell_type": "code",
      "metadata": {
        "id": "8rPr6BoFBkdU",
        "colab_type": "code",
        "colab": {
          "base_uri": "https://localhost:8080/",
          "height": 602
        },
        "outputId": "89e5e82e-6136-47e2-c0c0-e2f07777737d"
      },
      "source": [
        "%%time\n",
        "history += fit(num_epochs, lr, model, train_dl, val_dl, opt_func)"
      ],
      "execution_count": 62,
      "outputs": [
        {
          "output_type": "stream",
          "text": [
            "Epoch [0], train_loss: 0.2154, val_loss: 0.1619, val_acc: 0.9140\n",
            "Epoch [1], train_loss: 0.1593, val_loss: 0.1515, val_acc: 0.9180\n",
            "Epoch [2], train_loss: 0.1548, val_loss: 0.1487, val_acc: 0.9180\n",
            "Epoch [3], train_loss: 0.1526, val_loss: 0.1472, val_acc: 0.9190\n",
            "Epoch [4], train_loss: 0.1507, val_loss: 0.1486, val_acc: 0.9185\n",
            "Epoch [5], train_loss: 0.1497, val_loss: 0.1451, val_acc: 0.9187\n",
            "Epoch [6], train_loss: 0.1491, val_loss: 0.1444, val_acc: 0.9200\n",
            "Epoch [7], train_loss: 0.1489, val_loss: 0.1429, val_acc: 0.9210\n",
            "Epoch [8], train_loss: 0.1478, val_loss: 0.1453, val_acc: 0.9236\n",
            "Epoch [9], train_loss: 0.1458, val_loss: 0.1398, val_acc: 0.9268\n",
            "Epoch [10], train_loss: 0.1444, val_loss: 0.1432, val_acc: 0.9259\n",
            "Epoch [11], train_loss: 0.1460, val_loss: 0.1376, val_acc: 0.9265\n",
            "Epoch [12], train_loss: 0.1427, val_loss: 0.1362, val_acc: 0.9289\n",
            "Epoch [13], train_loss: 0.1418, val_loss: 0.1371, val_acc: 0.9282\n",
            "Epoch [14], train_loss: 0.1415, val_loss: 0.1344, val_acc: 0.9306\n",
            "Epoch [15], train_loss: 0.1396, val_loss: 0.1311, val_acc: 0.9313\n",
            "Epoch [16], train_loss: 0.1386, val_loss: 0.1314, val_acc: 0.9322\n",
            "Epoch [17], train_loss: 0.1385, val_loss: 0.1303, val_acc: 0.9313\n",
            "Epoch [18], train_loss: 0.1375, val_loss: 0.1284, val_acc: 0.9321\n",
            "Epoch [19], train_loss: 0.1357, val_loss: 0.1272, val_acc: 0.9323\n",
            "Epoch [20], train_loss: 0.1358, val_loss: 0.1259, val_acc: 0.9339\n",
            "New learning rate: 0.002\n",
            "Epoch [21], train_loss: 0.1322, val_loss: 0.1227, val_acc: 0.9377\n",
            "Epoch [22], train_loss: 0.1319, val_loss: 0.1237, val_acc: 0.9353\n",
            "Epoch [23], train_loss: 0.1311, val_loss: 0.1234, val_acc: 0.9383\n",
            "New learning rate: 0.0004\n",
            "Epoch [24], train_loss: 0.1306, val_loss: 0.1217, val_acc: 0.9385\n",
            "Epoch [25], train_loss: 0.1302, val_loss: 0.1215, val_acc: 0.9374\n",
            "Epoch [26], train_loss: 0.1298, val_loss: 0.1213, val_acc: 0.9373\n",
            "New learning rate: 8e-05\n",
            "Epoch [27], train_loss: 0.1297, val_loss: 0.1211, val_acc: 0.9375\n",
            "Epoch [28], train_loss: 0.1294, val_loss: 0.1211, val_acc: 0.9379\n",
            "Epoch [29], train_loss: 0.1296, val_loss: 0.1209, val_acc: 0.9378\n",
            "CPU times: user 24.9 s, sys: 7.11 s, total: 32 s\n",
            "Wall time: 3min 27s\n"
          ],
          "name": "stdout"
        }
      ]
    },
    {
      "cell_type": "code",
      "metadata": {
        "id": "AJtJSmFoC9gK",
        "colab_type": "code",
        "colab": {}
      },
      "source": [
        "def plot_losses(history):\n",
        "    train_losses = [x.get('train_loss') for x in history]\n",
        "    val_losses = [x['val_loss'] for x in history]\n",
        "    plt.plot(train_losses)\n",
        "    plt.plot(val_losses)\n",
        "    plt.xlabel('epoch')\n",
        "    plt.ylabel('loss')\n",
        "    plt.legend(['Training', 'Validation'])\n",
        "    plt.title('Loss vs. No. of epochs');\n",
        "\n",
        "def plot_accuracies(history):\n",
        "    accuracies = [x['val_acc'] for x in history]\n",
        "    plt.plot(accuracies)\n",
        "    plt.xlabel('epoch')\n",
        "    plt.ylabel('accuracy')\n",
        "    plt.title('Accuracy vs. No. of epochs');"
      ],
      "execution_count": 63,
      "outputs": []
    },
    {
      "cell_type": "code",
      "metadata": {
        "id": "v_cNRHwQDJJ2",
        "colab_type": "code",
        "colab": {
          "base_uri": "https://localhost:8080/",
          "height": 295
        },
        "outputId": "97a30ab2-56d2-4f4c-e3aa-b1aceb62c954"
      },
      "source": [
        "plot_losses(history)"
      ],
      "execution_count": 64,
      "outputs": [
        {
          "output_type": "display_data",
          "data": {
            "image/png": "[encoded data removed]",
            "text/plain": [
              "<Figure size 432x288 with 1 Axes>"
            ]
          },
          "metadata": {
            "tags": [],
            "needs_background": "light"
          }
        }
      ]
    },
    {
      "cell_type": "code",
      "metadata": {
        "id": "7Lgn-jl78TEZ",
        "colab_type": "code",
        "colab": {
          "base_uri": "https://localhost:8080/",
          "height": 295
        },
        "outputId": "473f4731-117f-40de-dcf7-55e5e4108d6d"
      },
      "source": [
        "plot_accuracies(history)"
      ],
      "execution_count": 67,
      "outputs": [
        {
          "output_type": "display_data",
          "data": {
            "image/png": "[encoded data removed]",
            "text/plain": [
              "<Figure size 432x288 with 1 Axes>"
            ]
          },
          "metadata": {
            "tags": [],
            "needs_background": "light"
          }
        }
      ]
    },
    {
      "cell_type": "markdown",
      "metadata": {
        "id": "C6v1yO8LSHvL",
        "colab_type": "text"
      },
      "source": [
        "## Test how the model generalize (test accuracy)."
      ]
    },
    {
      "cell_type": "code",
      "metadata": {
        "id": "NWIUnJ--8S3C",
        "colab_type": "code",
        "colab": {}
      },
      "source": [
        "test_dl = DeviceDataLoader(test_loader, device)"
      ],
      "execution_count": 68,
      "outputs": []
    },
    {
      "cell_type": "code",
      "metadata": {
        "id": "OR3ytpc09Pa-",
        "colab_type": "code",
        "colab": {}
      },
      "source": [
        "tst_logs = evaluate(model, test_dl)"
      ],
      "execution_count": 69,
      "outputs": []
    },
    {
      "cell_type": "code",
      "metadata": {
        "id": "jS179MoBGiUN",
        "colab_type": "code",
        "colab": {
          "base_uri": "https://localhost:8080/",
          "height": 33
        },
        "outputId": "d5f7b5bd-f9a4-49dc-bc3c-9b220c1db47f"
      },
      "source": [
        "print(\"Test accuracy: {} and test loss: {}.\".format(np.round(tst_logs['val_acc']*100, 2),np.round(tst_logs['val_loss'], 2)))"
      ],
      "execution_count": 70,
      "outputs": [
        {
          "output_type": "stream",
          "text": [
            "Test accuracy: 93.91 and test loss: 0.12.\n"
          ],
          "name": "stdout"
        }
      ]
    },
    {
      "cell_type": "code",
      "metadata": {
        "id": "bn-Pl12GHo4I",
        "colab_type": "code",
        "colab": {}
      },
      "source": [
        ""
      ],
      "execution_count": null,
      "outputs": []
    },
    {
      "cell_type": "markdown",
      "metadata": {
        "id": "zxJJ2kw8am9f",
        "colab_type": "text"
      },
      "source": [
        "# References:\n",
        "\n",
        "\n",
        "1.   [fast.ai](https://www.fast.ai/)\n",
        "2.   [Kitsune Network Attack Dataset Data Set. UCI](https://archive.ics.uci.edu/ml/datasets/Kitsune+Network+Attack+Dataset)\n",
        "3.   [Deep Learning with PyTorch: Zero to GANs](https://jovian.ml/forum/t/start-here-welcome-to-deep-learning-with-pytorch-zero-to-gans/1622)\n",
        "4.   [Sebastian Raschka, STAT 453, University of Wisconsin-Madison]( https://github.com/rasbt/deeplearning-models/blob/master/pytorch_ipynb/mlp/mlp-dropout.ipynb)\n",
        "\n"
      ]
    }
  ]
}